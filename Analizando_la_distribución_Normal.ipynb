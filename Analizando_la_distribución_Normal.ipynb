{
  "nbformat": 4,
  "nbformat_minor": 0,
  "metadata": {
    "colab": {
      "name": "Copia de Analizando la distribución Normal.ipynb",
      "provenance": []
    },
    "kernelspec": {
      "name": "python3",
      "display_name": "Python 3"
    }
  },
  "cells": [
    {
      "cell_type": "markdown",
      "metadata": {
        "id": "rya_3d9nPZEN",
        "colab_type": "text"
      },
      "source": [
        "### Distribución Normal con Python\n",
        "\n",
        "La distribución normal es una de las distribuciones más importantes, y probablemente sea el modelo de distribución más usado y conocido, lo usamos para describir variables reales continuas. También llamado Distribución Gaussiana en honor al matemático alemán Carl Friedrich Gauss.\n",
        "\n",
        "Se ajusta a la distribución de probabilidad de muchos eventos, ej. Puntuaciones de coeficiente intelectual, latidos, etc.\n",
        "\n",
        "Usando varias funciones de numpy para calcular matemáticamente los valores de una distribución normal. Se crean histogramas sobre los cuales trazamos la curva de distribución de probabilidad."
      ]
    },
    {
      "cell_type": "markdown",
      "metadata": {
        "id": "W7vGJ5amPr8R",
        "colab_type": "text"
      },
      "source": [
        "**Ejemplo:**\n",
        "- Las alturas de las personas se distribuyen normalmente de manera famosa. Si solo se analizan pocos datos, obtendremos una distribución de aspecto extraño. Pero a medida que se aumente la cantidad de amigos muestreados (por ejemplo, todos sus amigos de Facebook, asumiendo que es razonablemente social), la distribución comenzará a parecerse cada vez más a una distribución normal.\n",
        "\n",
        "- La duración de un determinado componente electrónico, en horas, es una variable aleatória continua que se distribuye según una media y varianza específica. ¿Cuál es la **probabilidad** de que la duración de una de esas componentes sea superior a un determinado número de horas? ¿y de que esté entre un intervalo fijo de horas?"
      ]
    },
    {
      "cell_type": "code",
      "metadata": {
        "id": "aiP4OylqT8I9",
        "colab_type": "code",
        "colab": {}
      },
      "source": [
        ""
      ],
      "execution_count": null,
      "outputs": []
    },
    {
      "cell_type": "markdown",
      "metadata": {
        "id": "OB396L8cT87q",
        "colab_type": "text"
      },
      "source": [
        "#### 01. Importamos modulos necesarios"
      ]
    },
    {
      "cell_type": "code",
      "metadata": {
        "id": "d6WuQ8qbPf3F",
        "colab_type": "code",
        "colab": {
          "base_uri": "https://localhost:8080/",
          "height": 71
        },
        "outputId": "09248445-39f4-45c1-d042-c74ec018c6c0"
      },
      "source": [
        "import numpy as np # cálculos matriciales\n",
        "import scipy.stats as ss # análisis estadístico\n",
        "from scipy.stats import norm # análisis estadístico\n",
        "from scipy import stats # análisis estadistico\n",
        "import statsmodels.api as sm # análisis estadístico\n",
        "import matplotlib.pyplot as plt # análisis gráfico\n",
        "import seaborn as sns # análisis gráfico"
      ],
      "execution_count": null,
      "outputs": [
        {
          "output_type": "stream",
          "text": [
            "/usr/local/lib/python3.6/dist-packages/statsmodels/tools/_testing.py:19: FutureWarning: pandas.util.testing is deprecated. Use the functions in the public API at pandas.testing instead.\n",
            "  import pandas.util.testing as tm\n"
          ],
          "name": "stderr"
        }
      ]
    },
    {
      "cell_type": "markdown",
      "metadata": {
        "id": "2twsDi9hUCGX",
        "colab_type": "text"
      },
      "source": [
        "#### 02. Generamos una variable aletoria con distribución normal"
      ]
    },
    {
      "cell_type": "code",
      "metadata": {
        "id": "MRGZ-yLuPf58",
        "colab_type": "code",
        "colab": {}
      },
      "source": [
        "# Generamos una variable aletoria con distribución normal con media 0 y varianza 1\n",
        "x_normal = np.random.normal(loc=10, # media \n",
        "                            scale=30, # varianza\n",
        "                            size=1000) # muestra"
      ],
      "execution_count": null,
      "outputs": []
    },
    {
      "cell_type": "code",
      "metadata": {
        "id": "UrPAFB2CTJ2T",
        "colab_type": "code",
        "colab": {
          "base_uri": "https://localhost:8080/",
          "height": 102
        },
        "outputId": "57a7dc54-b9dd-4ce8-a4cf-0e44b19364db"
      },
      "source": [
        "# Mostramos nuestros parámetros\n",
        "print('Parámetros distribución normal:','\\n')\n",
        "print('Promedio: ', np.mean(x_normal))\n",
        "print('Varianza:', np.std(x_normal))\n",
        "print('Muestra:',len(x_normal))"
      ],
      "execution_count": null,
      "outputs": [
        {
          "output_type": "stream",
          "text": [
            "Parámetros distribución normal: \n",
            "\n",
            "Promedio:  10.94897891285069\n",
            "Varianza: 29.14746497082193\n",
            "Muestra: 1000\n"
          ],
          "name": "stdout"
        }
      ]
    },
    {
      "cell_type": "code",
      "metadata": {
        "id": "-2z_D2MYPf8s",
        "colab_type": "code",
        "colab": {
          "base_uri": "https://localhost:8080/",
          "height": 1000
        },
        "outputId": "a60e710b-06c4-4791-d8b2-64e899e3ef71"
      },
      "source": [
        "# Mostramos nuestras variables generadas\n",
        "print('Detalle de variables:','\\n')\n",
        "print(x_normal)"
      ],
      "execution_count": null,
      "outputs": [
        {
          "output_type": "stream",
          "text": [
            "Detalle de variables: \n",
            "\n",
            "[ 3.61657861e+00 -5.13018123e+00 -2.51411995e+00 -1.57686760e+01\n",
            "  3.15326078e+01  1.49449555e+01  2.84602719e+01  1.03180430e+01\n",
            "  3.37843825e+01 -2.83129557e+01 -2.11461622e+01 -1.42385191e+00\n",
            "  1.49749799e+01  3.44057591e+01  4.20164795e+01  3.46904471e+01\n",
            " -6.55905579e+01  1.36730381e+01 -3.49362400e+01  4.39279984e+00\n",
            "  6.26439093e+01  1.57842680e+01  7.21090484e-02 -1.11525353e+01\n",
            " -1.64499726e+01  2.38814441e+01  1.97426327e+01  3.04937541e+01\n",
            " -3.44478352e+01  3.13176938e+01 -7.86099503e+00 -1.38778055e+01\n",
            "  5.24290764e+01  2.43705438e+01  3.94083223e+01  4.22483985e+01\n",
            " -3.43924565e+00 -2.57017013e+01 -6.51651477e+00  1.09119359e+01\n",
            "  1.03041394e+01  4.54038863e+01 -6.69368176e+01  4.61092606e+01\n",
            " -4.36353033e+01 -1.29006062e+01  6.60390093e+00 -5.17189823e+00\n",
            "  3.14822930e+01  1.61802826e+01  4.66763530e+01  1.99937091e+01\n",
            "  2.89836446e+01  2.24922324e+01 -1.23261374e+01 -1.54053885e+01\n",
            "  5.18465020e+01  2.60114184e+01  1.68431521e+01 -2.66979317e+01\n",
            "  1.73959366e+01  9.43493393e+01 -2.86975164e+01  5.23120061e+00\n",
            " -4.24369557e+01 -3.35096164e+00 -3.56149365e+01 -8.24279038e+00\n",
            "  1.27955939e+01  3.03550807e+01 -2.16588898e+01 -5.04577136e+00\n",
            " -4.51938976e+00  5.97388216e+01 -1.02584270e+01  2.27197415e+01\n",
            " -3.15011865e+01  1.11579547e+01 -5.34163647e+01 -2.19147180e+01\n",
            " -4.37647798e+01 -1.30121829e+01 -1.40168828e+01  3.82491557e+01\n",
            "  2.80098891e+01  6.84213673e+01  2.90389884e+01  4.21270577e+01\n",
            "  1.45393681e+01  2.40981705e+01  1.28036016e+01  7.28622858e+01\n",
            "  4.54484774e+01  2.22740308e+01  1.43002859e+01  6.81905949e+01\n",
            "  8.56807857e+00  5.46309162e+01  3.15709470e+01 -3.80224561e+01\n",
            "  3.73181198e+01  4.11295086e+01 -2.79191805e+01  8.75453381e+01\n",
            "  1.47076917e+01  3.95058851e+01  1.25196433e+01  5.19481543e+01\n",
            " -2.48380805e+01  9.96953003e+00  1.45511015e+01 -2.08590015e+01\n",
            "  6.92368008e+01 -1.16820877e+01  4.27165237e+01  6.29757349e+00\n",
            "  5.85097889e+00 -4.32153137e+01  7.34002000e+00 -2.49037231e+01\n",
            "  2.61671649e+01 -6.55449744e+01 -1.85758859e+01 -1.24514397e+01\n",
            " -3.13286136e+01 -9.10626554e+00  1.74660803e+01 -6.24164422e+01\n",
            " -9.18006076e+00  1.08033829e+01  2.91267786e+01 -2.23083484e+01\n",
            "  5.67627709e+00  1.10060113e+01  1.57925567e+01 -3.20391170e+00\n",
            " -2.07339749e+01 -1.05385126e+01 -3.07302500e+01  2.12288069e+01\n",
            "  8.16062866e+01 -1.23143232e+01  1.51225912e+01 -7.59511975e+00\n",
            "  3.12990126e+01  2.34327388e+01 -1.56870342e+01 -2.36939100e+01\n",
            "  2.78622903e+01 -9.47451571e+00  3.93852024e+01 -3.25122595e+01\n",
            " -8.66447418e+00  2.27117626e+01  6.32108936e+00  1.18734754e+01\n",
            "  1.68350024e+01  4.99966173e+01 -1.83693528e+01  7.73285987e+00\n",
            " -4.07195466e+01 -3.03950626e+01 -3.08724258e+01  1.11428343e+01\n",
            " -2.17462365e+01 -1.77966389e+01  1.15620764e+00  1.43166706e+01\n",
            " -4.39687992e+00 -5.16879323e+01 -2.48859862e+01  5.33238028e+01\n",
            " -5.27486267e+01  1.45208935e+01 -8.04711092e+00  6.86733934e+01\n",
            " -2.38694907e+00  9.80880545e+01  3.76571408e+01 -2.23786497e+00\n",
            "  2.40978939e+01  1.66670914e+01  1.27557187e+01 -1.96222921e+01\n",
            "  9.51460251e+00  3.87320248e+01 -5.61490656e+01  5.88254747e+01\n",
            "  5.74227991e+01  8.04640106e+01  9.26540027e+00 -4.46437354e+00\n",
            "  2.32162296e+01 -4.33193840e+01 -4.06408573e+00  1.18713116e+01\n",
            "  5.60807564e+01  1.28250115e+01  3.01897286e+00 -4.01337710e+01\n",
            "  3.10564324e+01  4.04239251e+01 -2.72906928e+01  4.69649174e+01\n",
            "  1.56508420e+00  6.29820951e+00 -3.94377678e+01  5.71285265e+01\n",
            " -1.44097253e+01  4.26356049e+01 -6.08451603e+01 -3.26167733e+01\n",
            "  8.40209592e+00  2.22195920e+01 -1.55948966e+01  7.62456506e+00\n",
            "  1.65940586e+01  5.29151449e+01  1.24535541e+01  5.25469548e+00\n",
            " -7.64052918e+00 -1.96321475e+00  2.75114432e+01 -2.30335958e+01\n",
            " -1.22685241e+01 -2.07601586e+01 -6.69247562e+00  6.29378340e+00\n",
            "  2.55425601e+01 -5.33263164e+00  2.02993298e+01  4.58836207e+01\n",
            " -6.31357452e+00  3.19926706e+01  2.59630066e+01  5.05393553e+01\n",
            "  8.80220997e+00  2.25132321e+01  9.63442753e+00  1.85292842e+01\n",
            "  1.43494300e+01 -1.48337590e+01 -4.96229288e+01  3.58205699e+01\n",
            "  2.50657157e+01 -7.27926635e+00 -8.76271408e+00  1.73003666e+01\n",
            " -6.65904714e+00  2.14334740e+01  1.99230343e+01  2.26242513e+01\n",
            " -1.90424761e+01 -3.04447334e+01  3.12331372e+01 -1.81866367e+01\n",
            "  4.15913560e+01 -1.80126623e+01  1.04695223e+01  1.58274171e+01\n",
            "  7.15615969e+01  1.54748953e+01 -1.91165220e+00 -5.26238304e+01\n",
            " -4.64708291e+01  3.58771988e+01  3.73975070e+01  5.93033212e-01\n",
            " -1.18244175e+01  7.09258510e+01 -4.33662070e+01 -5.98222056e+00\n",
            "  5.10140841e+00  2.19414930e+01  2.72330794e+01 -5.17070869e+01\n",
            "  2.32559505e+01  4.28708397e+01 -9.69396778e+00  1.02127964e+01\n",
            "  7.75928144e+00  3.74547227e+01  4.86407804e+01  7.37724779e+01\n",
            "  5.75228546e+01  2.44830104e+00  1.24175392e+01 -1.69803105e+01\n",
            "  2.16186848e+00 -3.63573087e+00  2.64699194e+01  1.07411630e+01\n",
            " -3.24973493e+01  6.35548212e+01 -1.00838978e+01  1.57821856e+01\n",
            "  6.50702720e+01 -3.36763857e+00  2.76165408e+00  3.82658888e+01\n",
            " -3.00222841e+01  3.42551368e+01  1.45817356e+01 -4.24404963e+00\n",
            "  3.72077787e+01 -1.27618614e+01 -3.48366146e+01  2.11741742e+00\n",
            "  2.60409857e+01  2.22751077e+01 -7.53377138e+00  2.29436319e+01\n",
            " -8.85551972e-01  6.16491184e+01 -2.58306575e+01  7.66760190e+01\n",
            "  1.74319568e+01  2.53925820e+00  2.85878092e+01  2.71079937e+01\n",
            "  4.42425812e+01  7.17795808e+01  2.21731581e+01  5.88047015e+00\n",
            "  1.27058146e+01  1.29460716e+00 -3.71668351e+01  3.76589057e+01\n",
            " -4.89444164e+01  4.57035887e+01 -5.13044854e+01 -3.71433082e+01\n",
            " -4.45050084e+01  3.47184006e+01  1.44982984e+01  3.14946372e+01\n",
            " -1.52367043e+01 -2.16718969e+01 -1.59221844e+01 -4.20904835e+00\n",
            " -1.45227580e+01 -9.42664023e-01  1.59923155e+01  3.55743069e+01\n",
            "  4.87032384e+01  6.27433074e+01 -4.38601356e+01  3.87063921e+01\n",
            "  1.66323854e+01  2.13450689e+01 -1.83665115e+01  1.43319104e+01\n",
            "  1.37160653e+01  6.52495785e+01 -1.73848982e+01  4.46573663e+01\n",
            " -3.94330559e+01  1.71814755e+01  4.24139610e+00  1.13683646e+01\n",
            "  2.29447450e+01 -4.31418626e+01 -2.47938415e+01 -3.61068397e+01\n",
            " -1.51287713e+01  2.59215108e+01  7.05149190e+01 -3.64552648e+00\n",
            " -2.88751927e+01  5.98784472e+01  6.44523195e+01 -2.48086927e+01\n",
            "  3.40402356e+01  2.63053580e+01  9.59747889e+00 -2.05471431e+00\n",
            "  6.17194373e+00  1.09539813e+01 -2.31395628e+01  3.37722384e+01\n",
            "  2.15219679e+01 -2.09353999e+01 -1.64603514e+00  1.58311623e+01\n",
            " -1.93147379e+01  4.77225436e+01  3.89002738e+01 -1.54468535e+01\n",
            "  3.46854678e+01  3.45964295e+01  2.20808464e+01  1.67972066e+01\n",
            "  9.04597417e+01  3.27015145e+01  3.36136169e+01 -2.82122854e+01\n",
            " -1.12338302e+01  1.19855263e+01 -5.17865318e+01  1.01438422e+01\n",
            "  5.86741829e+00  5.00124352e+01  7.48985993e+00  4.00357015e+01\n",
            "  7.00030699e+00  2.09355008e+01  1.27842678e+01 -2.66031868e+00\n",
            "  3.82208507e+01  1.04372182e+01 -1.07559918e+01 -9.23262632e+00\n",
            " -1.02246814e+01 -5.87967859e-01 -2.07290381e+01  5.00191004e+01\n",
            "  5.30402198e+01  4.53872597e+01 -1.38460979e+01  3.69359941e+01\n",
            " -3.05516193e+01  1.84495361e+01  1.34623801e+01  4.93552417e+01\n",
            "  3.35062793e+01 -3.36167194e+01  1.74350796e+01 -1.63029659e+00\n",
            "  6.30631990e+01  4.43490706e+01 -1.43557078e+01  3.50997144e+01\n",
            " -6.40006062e+00  1.75486294e+00 -1.79781159e+01  1.44023781e+01\n",
            "  2.68559108e+01 -3.80646324e-01 -3.37936683e+00  3.98895116e+01\n",
            " -1.68719092e+01 -5.28118268e+00 -7.37576286e+00 -2.61155160e+01\n",
            " -2.48368344e-01  3.71291673e+01  2.60716634e+01 -3.90405662e+01\n",
            " -1.35948136e+01 -1.13444345e+00  2.06555718e+01  3.03941254e+01\n",
            " -1.10328599e+01 -4.25562889e+01  2.05086980e+00  5.04620305e+01\n",
            "  5.58732254e+01 -2.63752997e+01 -3.00993997e+01 -3.34889552e+01\n",
            "  4.92058144e+01  4.45857370e+01  6.04923882e+00 -1.77835640e+01\n",
            "  2.46872569e+00 -4.38227894e-01  7.65730632e+00 -1.30184931e+01\n",
            "  3.21217594e+01  3.82147036e+01  1.74031995e+01  4.49624199e+01\n",
            "  1.64220840e+01  1.08572246e+01 -2.04741801e+01 -6.17666139e+00\n",
            "  2.11181024e+01 -6.89796433e-01 -9.18559196e-01  2.85481503e+01\n",
            "  8.91989586e+00 -1.63889505e+01 -2.59950182e+01 -6.53218744e+00\n",
            "  3.49870132e+01  7.89539776e+01  6.48940996e+00 -5.09299213e+01\n",
            "  1.25789175e+01  3.01656102e+01 -3.38764462e+01 -4.05275330e+01\n",
            " -1.25541024e+01 -1.03667464e+01  2.64935255e+01 -5.82102335e+01\n",
            " -1.04824570e+01 -2.97819945e+01  3.72290907e+01 -6.42836909e-01\n",
            " -9.27397342e+00  3.59139828e+01  7.11214112e+00 -2.33036200e+01\n",
            " -1.60978835e+01 -2.60943090e+01  1.00768560e+01  2.41308767e+01\n",
            "  1.46172028e+01 -3.31073421e+01  3.64796302e-01  8.61225754e+00\n",
            " -1.77917990e+01 -2.52020900e+01  1.99328050e+01  3.18253877e+00\n",
            "  8.47875009e+00 -3.57694247e+01  3.18264343e+01  1.12262320e+01\n",
            " -1.45935118e+01 -1.99450798e+01 -9.31728004e+00 -3.36352928e+01\n",
            "  5.19352627e+00  6.67273941e-02  6.72450441e+01 -4.00835140e+01\n",
            " -5.04000915e+01  4.43262762e+01 -5.34429444e+01  5.16933518e+01\n",
            "  5.19911019e+01  4.14035840e+01  3.67844444e+01  3.08077445e+01\n",
            "  1.03352081e+01 -3.52258383e+00  1.50799827e+01 -2.34220581e+01\n",
            " -1.21055289e+01  3.42485373e+01  2.82728308e+01 -1.27736400e+01\n",
            "  3.14485475e+01  4.70533078e+01  2.20449496e+01  4.45203410e+01\n",
            "  1.27221582e+01  3.95374439e+01 -1.49216443e+01 -2.81930410e+01\n",
            "  5.98327569e+01 -9.24453577e+00  1.26619382e+01 -4.68835361e+00\n",
            " -2.12954259e+01 -2.00351962e+00  3.56085939e+01 -1.41204436e+01\n",
            "  3.68979755e+01  5.18072526e+01 -1.24066627e+01  2.85389782e+01\n",
            " -6.41466009e+00 -4.19892822e+01  5.32415043e+01  8.27153341e+00\n",
            "  1.94898566e+01  3.74547457e+01 -6.14474475e+00 -6.33181683e+00\n",
            " -2.38093959e+01 -4.17873974e+01  3.37932798e+01  4.81199152e+01\n",
            "  5.83973361e+00  3.33911843e+01 -2.30951600e+01 -4.30132360e+01\n",
            " -1.34281141e+01 -5.59828113e+01 -1.76897107e+01  1.64938784e+01\n",
            "  3.70824139e+01 -4.96541956e+01  3.22036860e+01  5.35968638e+01\n",
            "  7.44455200e+01 -3.41921474e+00  2.61721187e+01  3.08376135e+01\n",
            "  1.50967343e+01  4.26285374e+01 -1.44089764e+01  6.66058102e+00\n",
            " -3.02177941e+01 -4.18897056e+01  1.51503394e+01  1.15758428e+01\n",
            "  6.32976498e+00 -3.85798366e+01  4.63681030e+01  2.89198168e+01\n",
            " -4.20936432e+01 -1.15378352e+01  7.53970307e+01  6.87955121e+00\n",
            " -1.69389569e+01  2.83242603e+01 -1.90730178e+01  2.68687923e+01\n",
            " -1.87734560e+01  2.01072995e+01  2.36271384e+01  1.28355332e+01\n",
            " -4.85710560e+00 -4.13066449e+01  9.40249134e+01 -1.15780781e+01\n",
            " -1.11505800e+00  3.79788122e+01  3.61559519e+01  5.08880246e+00\n",
            " -8.92574293e+00  1.12009592e+01  7.48673114e+01  2.35478918e+01\n",
            "  7.98508179e+00  2.41990641e+01 -1.35835950e+01  1.73692708e+01\n",
            "  2.12351049e+01  6.10234000e+00  4.25783277e+01  4.22520221e+01\n",
            " -3.88387572e+01  2.65520895e+01 -2.83812683e+00  1.19320487e+01\n",
            " -1.28207256e+01 -5.74274832e+01 -7.05920876e-01 -2.00828492e+01\n",
            "  4.93438985e+01  2.74363683e+01  1.01967141e+01  4.43237065e+01\n",
            " -2.91108143e+01  2.76249514e+01  3.56038402e+01  1.77232456e+01\n",
            " -2.60130646e+01  3.36285827e+01 -5.56480130e+01  1.86048515e+01\n",
            " -1.99197885e+00  8.84239579e+00 -2.57185787e+01 -6.05506927e+00\n",
            "  1.01381466e+01  4.04770057e+00 -1.00026006e+01  2.31177592e+01\n",
            "  1.50431667e+01 -3.18079110e+01  1.83226070e+01  5.11391690e+01\n",
            "  1.98163615e+00  4.41487549e+01 -6.61689419e+00 -1.93131596e+01\n",
            "  4.12250073e+01  6.47580694e+01 -1.31866663e+01  4.14277783e+01\n",
            "  2.62634715e+01  2.52083081e+01  4.22564621e+01 -1.20410438e+01\n",
            "  3.61896537e+01  4.29878511e+01 -1.30706177e+01  4.13794690e+01\n",
            "  7.16422523e+00  1.00180651e+01  9.37090612e+00  3.15071716e+00\n",
            "  1.11997839e+01  6.26141174e+01  4.19890765e+01  4.99137855e+01\n",
            "  2.28132930e+01 -3.82790867e+01  2.52403961e+01  4.40974891e+01\n",
            "  2.91438178e+01  1.07986474e+01 -4.55207089e-01  4.83542871e+01\n",
            "  4.89169386e+01  2.28814910e+01  1.59152314e+01  4.15797975e+01\n",
            "  2.29904975e+01 -4.04545809e+01 -5.43323744e+00 -1.44948991e+01\n",
            " -3.60713980e+00 -2.27411157e+01 -9.48900883e+00  1.69857664e+01\n",
            "  6.37246610e+00  5.13106477e+01 -5.03475579e+01  1.49407887e+01\n",
            " -2.24485258e+00 -2.27198947e+01 -1.70568157e+01 -1.82397778e+01\n",
            "  7.70808438e+00 -1.38504699e+01  3.56582932e+01  5.66721115e+01\n",
            " -5.24429734e+00  3.37803087e+01 -3.30093032e+00  2.18204588e+01\n",
            "  5.22249453e+01 -1.47320241e+01  1.00329051e+01 -4.33028306e+01\n",
            "  1.76939929e+01 -3.39230818e+01  5.34660075e+01  1.81579972e+01\n",
            " -1.94134101e+01 -5.89688049e+00 -3.89228300e+01 -9.94227480e+00\n",
            " -4.38032310e+01  3.86976832e+01  6.53542313e+01 -2.32359368e+01\n",
            "  4.83044678e+01 -2.00641184e+01 -2.46670716e+01  1.37610639e+01\n",
            " -1.69239397e+01  8.75063527e+01  2.20376652e+01  1.53683057e+01\n",
            "  3.53673428e+01  2.88259842e+01  4.73415946e+01  1.92074539e+01\n",
            "  1.77361175e+01  1.26553411e+01  7.96780195e+01  3.28563119e+01\n",
            "  2.17008711e+01  3.11559518e+01 -7.96765393e+00 -1.45005516e+01\n",
            " -3.17940592e+01  1.53534850e+01 -9.97668431e+00 -4.63310523e+00\n",
            " -1.53394843e+01  1.02954432e+01  1.98772474e+01  4.58751484e+01\n",
            "  1.31895956e+01 -2.36833943e+01  1.28848943e+00  1.23685363e+01\n",
            " -1.40525435e+01  4.25874107e+00 -1.98510243e+01  2.69648696e+01\n",
            "  6.79351634e+00 -3.41253021e+01  1.24178912e+01 -4.07637804e+01\n",
            " -5.98174822e+01 -3.54277382e+00  5.16175713e+01  4.45227431e+01\n",
            "  2.08721042e+01  4.52963741e+01  3.30557695e+01  3.74093599e+01\n",
            "  2.12245836e+01  3.15939786e+01 -2.00603629e+01 -8.48105569e-01\n",
            "  3.96638095e+01  4.71840458e+01  1.77011477e+01 -1.42790791e+00\n",
            " -2.21779664e+01 -3.22848924e+01  2.17205012e+01  8.59180878e+00\n",
            "  3.98315390e+01 -1.40589987e+01  1.31433049e+01  3.80851245e+01\n",
            "  1.62544595e+01  6.78006627e+01  1.71536326e+01  2.23424041e+01\n",
            " -1.39996948e+01  6.32339483e+01 -2.29528817e+01 -9.05396895e+00\n",
            " -7.51274457e+00  5.02611403e+00  9.69051027e-01 -1.50304267e+01\n",
            "  6.70047188e+01 -3.46361628e+01 -1.73450327e+00  4.11385145e+01\n",
            " -7.35883077e+01  3.41265923e+01  6.51994454e+01  6.15305356e+01\n",
            "  2.69863689e+01  5.35751509e+01  6.97258386e+00 -2.44089012e+01\n",
            "  2.28258781e+01  5.96309498e+00 -1.85825856e+01  5.28713008e+01\n",
            " -2.93925474e+01  3.10254369e+00 -5.89635559e+00  7.29601304e+01\n",
            " -5.87766889e+01  2.41480449e+00  5.61159671e+01  3.13087834e+01\n",
            " -4.92084387e+00  2.24837800e+01  5.43620202e+01  3.55430253e+00\n",
            "  9.22176150e+00  4.39514808e+01  3.89886278e+01  7.09195304e+01\n",
            "  5.85397458e+01  9.47843644e+00 -7.72037323e+00  6.17874751e+01\n",
            "  1.79757998e+01 -6.06787275e-01  2.18223130e+01  7.22776412e+00\n",
            "  5.92087056e+01  9.69636830e+00 -5.22208252e+00 -6.11246361e+00\n",
            "  1.86383785e+00  5.23768272e+00 -5.53459918e+01  1.93894330e+01\n",
            "  1.38511929e+01  1.24089092e+01 -1.46196793e+01  3.29861260e+01\n",
            "  2.32394900e+01  2.99513287e+01  1.89250694e+01 -1.01378289e+01\n",
            "  1.61397840e+01  9.53828411e+00 -2.78801511e+01  2.96121301e+00\n",
            "  5.44132265e+00  2.26058441e+01  1.90216672e+01  1.50557279e+01\n",
            " -9.28856985e+00 -5.49883474e+01 -8.70566544e+00  4.51622284e+01\n",
            "  5.26596467e+01  2.20527741e+00  4.17860150e+00 -1.07609215e+01\n",
            " -5.28422171e+01  3.81290475e+01 -3.68857211e+00 -4.38043628e+01\n",
            " -3.31664357e+01  1.46794894e+01 -1.28751922e+01  8.55919043e+00\n",
            "  7.58954297e+00  2.46893498e+01  2.72008611e+01 -2.93039193e+01\n",
            "  1.17311053e+01 -3.32465731e+00  4.07142841e+01  3.14688668e+01\n",
            " -2.44189550e+01 -3.54620504e+00  2.68079468e+00 -1.64784568e+01\n",
            " -4.51324055e+00  2.24583139e+01 -6.34597186e+00 -6.59161620e+01\n",
            " -2.01486685e+01  1.66978398e+00  4.15000746e+01  1.30880087e+02\n",
            "  4.16045080e+01 -6.32408327e-01 -1.37509415e+00  3.18423184e+01\n",
            "  5.08394406e+01  4.75043604e+01  1.18147222e+01  1.28831969e+01\n",
            "  2.77635698e+01  1.06692100e+01  3.94001499e+01 -2.39666787e+00\n",
            " -6.64400214e+01 -1.87612468e+01 -3.26161812e+01 -1.88330009e+01\n",
            "  5.89562511e+01  1.83076016e+01 -7.13533348e+01 -1.25579779e-01\n",
            " -2.50432598e+01  1.61148826e+01  8.01695144e+01  9.97875958e+00\n",
            " -1.18540056e+01  7.99108064e+00  4.39705271e+01  9.67663352e+00\n",
            " -1.87189358e+01 -9.51194148e+00 -3.47704691e+01 -2.45163770e+01\n",
            " -3.07041261e+01  4.27223076e+01 -3.95929124e+01  4.36133207e+01\n",
            "  5.75639872e+01  2.83830187e+01  4.05174138e+01  2.64993931e+00\n",
            "  1.58091131e+00  1.36271967e+01  4.75297311e+01  1.61942248e+00\n",
            " -7.35001182e+00  6.78661269e+00 -5.83194121e+00  3.36883012e+01\n",
            " -3.09668301e+00 -1.71199681e+01  5.77787430e+01  2.21085627e+01\n",
            "  4.96859104e+00 -3.43915532e+01  2.19606164e+01  1.96813039e+01\n",
            " -1.43376604e+01  4.24856123e+01  1.15239842e+01  1.79756188e+01\n",
            "  1.21438930e+01  1.85093042e+01  3.14215967e+01  8.19948974e+00\n",
            " -3.63425996e+01  3.06118903e+01  2.09320260e+01 -9.91769415e+00\n",
            " -2.99245406e+01 -1.43512769e+01 -1.97035332e+01  4.22114891e+01\n",
            "  4.28167247e+01  1.31345396e+01  7.76445419e+01  8.37550536e-01\n",
            " -4.35226230e+01  2.03911072e+01  2.87594781e+01  3.08004569e+01]\n"
          ],
          "name": "stdout"
        }
      ]
    },
    {
      "cell_type": "code",
      "metadata": {
        "id": "rFVwaPnRQ_tn",
        "colab_type": "code",
        "colab": {}
      },
      "source": [
        ""
      ],
      "execution_count": null,
      "outputs": []
    },
    {
      "cell_type": "markdown",
      "metadata": {
        "id": "6oNOueXrUPzI",
        "colab_type": "text"
      },
      "source": [
        "#### 03. Graficamos la distribución normal"
      ]
    },
    {
      "cell_type": "code",
      "metadata": {
        "id": "spMIUG6JSOBm",
        "colab_type": "code",
        "colab": {
          "base_uri": "https://localhost:8080/",
          "height": 295
        },
        "outputId": "ffa5f415-0985-4014-bc99-23fe59adb19c"
      },
      "source": [
        "# Gráfica de distribución normal\n",
        "#plt.figure(figsize=(16,5), dpi=30)\n",
        "plt.title('Distribución Normal N(10,30)')\n",
        "plt.hist(x_normal, bins= 100, color='b')\n",
        "plt.ylabel('frequencia')\n",
        "plt.xlabel('valores')\n",
        "plt.show()"
      ],
      "execution_count": null,
      "outputs": [
        {
          "output_type": "display_data",
          "data": {
            "image/png": "[encoded data removed]",
            "text/plain": [
              "<Figure size 432x288 with 1 Axes>"
            ]
          },
          "metadata": {
            "tags": [],
            "needs_background": "light"
          }
        }
      ]
    },
    {
      "cell_type": "code",
      "metadata": {
        "id": "S_Q0BcCjZR5o",
        "colab_type": "code",
        "colab": {}
      },
      "source": [
        ""
      ],
      "execution_count": null,
      "outputs": []
    },
    {
      "cell_type": "markdown",
      "metadata": {
        "id": "NN7ynKsIZSS1",
        "colab_type": "text"
      },
      "source": [
        "#### 04. Graficamos la distribución normal acumulada\n",
        "\n",
        "Recuerden que la función de distribución acumulada de una variable aleatoria x es la probabilidad de que dicha variable tome un valor menor o igual que x. En el caso de la función de distribución Normal es siempre estrictamente creciente, continua y tiene forma de **S**."
      ]
    },
    {
      "cell_type": "code",
      "metadata": {
        "id": "KEd-hd73cLek",
        "colab_type": "code",
        "colab": {
          "base_uri": "https://localhost:8080/",
          "height": 295
        },
        "outputId": "79cf5b31-bb40-4ec6-e459-6df4f4e7634e"
      },
      "source": [
        "X2 = np.sort(x_normal)\n",
        "F2 = np.array(range(1000))/float(1000)\n",
        "\n",
        "plt.title('Distribución Normal acumulada')\n",
        "plt.plot(X2, F2)\n",
        "plt.ylabel('frequencia')\n",
        "plt.xlabel('valores')\n",
        "plt.show()"
      ],
      "execution_count": null,
      "outputs": [
        {
          "output_type": "display_data",
          "data": {
            "image/png": "[encoded data removed]",
            "text/plain": [
              "<Figure size 432x288 with 1 Axes>"
            ]
          },
          "metadata": {
            "tags": [],
            "needs_background": "light"
          }
        }
      ]
    },
    {
      "cell_type": "code",
      "metadata": {
        "id": "9Vh8J6OYZVbX",
        "colab_type": "code",
        "colab": {}
      },
      "source": [
        ""
      ],
      "execution_count": null,
      "outputs": []
    },
    {
      "cell_type": "markdown",
      "metadata": {
        "id": "Oy2I6pm8ZVuU",
        "colab_type": "text"
      },
      "source": [
        "#### 05. ¿Son verdaderamente normales nuestros datos\n",
        "\n",
        "- Ahora crearemos una distribución de probabilidad continua en base a nuestras variables de la muestra y las sobre pondremos en nuestro gráfico de variables aleatorias normales generadas para realizar un análisis comparativo gráfico inicial"
      ]
    },
    {
      "cell_type": "code",
      "metadata": {
        "id": "HVHlYO8pSOGR",
        "colab_type": "code",
        "colab": {}
      },
      "source": [
        "# Se distribuye normalmente mi muestra?\n",
        "dist = norm(loc=np.mean(x_normal), # creación de distribución normal en base a muestra original\n",
        "            scale=np.std(x_normal))"
      ],
      "execution_count": null,
      "outputs": []
    },
    {
      "cell_type": "code",
      "metadata": {
        "id": "1WnSGxkpQ_v3",
        "colab_type": "code",
        "colab": {
          "base_uri": "https://localhost:8080/",
          "height": 282
        },
        "outputId": "0d1db1bc-3298-4f29-89fc-baf2190fd60b"
      },
      "source": [
        "margen = np.linspace(dist.ppf(0.001),\n",
        "                dist.ppf(0.999), 100)\n",
        "plt.hist(x_normal, density =True,bins= 100, color='b', label=\"Muestra N(10,30)\")\n",
        "plt.plot(margen, dist.pdf(margen), color='r', label=\"PDF teórico\")\n",
        "plt.legend()"
      ],
      "execution_count": null,
      "outputs": [
        {
          "output_type": "execute_result",
          "data": {
            "text/plain": [
              "<matplotlib.legend.Legend at 0x7f93896596a0>"
            ]
          },
          "metadata": {
            "tags": []
          },
          "execution_count": 8
        },
        {
          "output_type": "display_data",
          "data": {
            "image/png": "[encoded data removed]",
            "text/plain": [
              "<Figure size 432x288 with 1 Axes>"
            ]
          },
          "metadata": {
            "tags": [],
            "needs_background": "light"
          }
        }
      ]
    },
    {
      "cell_type": "markdown",
      "metadata": {
        "id": "3-WRqyI8dW1F",
        "colab_type": "text"
      },
      "source": [
        "Finalmente validamos la normalidad de nuestra variable aleatoria con el test de Shapiro-Wilk:\n",
        "\n",
        "Las pruebas de Shapiro-Wilk  constrastan si una muestra aleatoria proviene de una distribución normal. La hipótesis es la siguiente:\n",
        "- La hipótesis nula de la prueba es que los datos se distribuyen normalmente. Si el valor p devuelto es menor que 05, entonces se rechaza la hipótesis nula y hay evidencia de que los datos no provienen de una población distribuida normalmente."
      ]
    },
    {
      "cell_type": "code",
      "metadata": {
        "id": "XR19Gs8_el8_",
        "colab_type": "code",
        "colab": {
          "base_uri": "https://localhost:8080/",
          "height": 34
        },
        "outputId": "3662b276-3af9-4d7f-935e-c9162272c118"
      },
      "source": [
        "k2, p = stats.normaltest(x_normal)\n",
        "print(k2, p)"
      ],
      "execution_count": null,
      "outputs": [
        {
          "output_type": "stream",
          "text": [
            "0.9711424700645332 0.6153455893910107\n"
          ],
          "name": "stdout"
        }
      ]
    },
    {
      "cell_type": "code",
      "metadata": {
        "id": "E1D5p1CrQ_yg",
        "colab_type": "code",
        "colab": {
          "base_uri": "https://localhost:8080/",
          "height": 541
        },
        "outputId": "3fab86fb-96e0-492c-9e27-a34d578911b3"
      },
      "source": [
        "# Test de normalidad\n",
        "sm.qqplot(x_normal, line='s')"
      ],
      "execution_count": null,
      "outputs": [
        {
          "output_type": "execute_result",
          "data": {
            "image/png": "[encoded data removed]",
            "text/plain": [
              "<Figure size 432x288 with 1 Axes>"
            ]
          },
          "metadata": {
            "tags": []
          },
          "execution_count": 10
        },
        {
          "output_type": "display_data",
          "data": {
            "image/png": "[encoded data removed]",
            "text/plain": [
              "<Figure size 432x288 with 1 Axes>"
            ]
          },
          "metadata": {
            "tags": [],
            "needs_background": "light"
          }
        }
      ]
    },
    {
      "cell_type": "markdown",
      "metadata": {
        "id": "s15Wek-we2jT",
        "colab_type": "text"
      },
      "source": [
        "*Los resultados del test de Shapiro-Wilk muestran un p_value = 0.35 > 0.05, por lo que se acepta la hipótesis nula y se puede afirmar que existe suficiente evidencia para garantizar normalidad en los datos.*"
      ]
    }
  ]
}